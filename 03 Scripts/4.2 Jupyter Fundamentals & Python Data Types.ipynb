{
 "cells": [
  {
   "cell_type": "markdown",
   "id": "68b4c3a3",
   "metadata": {},
   "source": [
    "# import libraries"
   ]
  },
  {
   "cell_type": "code",
   "execution_count": 1,
   "id": "f4d808ab",
   "metadata": {},
   "outputs": [],
   "source": [
    "import pandas as pd"
   ]
  },
  {
   "cell_type": "code",
   "execution_count": 2,
   "id": "e70ffde3",
   "metadata": {},
   "outputs": [],
   "source": [
    "import numpy as np"
   ]
  },
  {
   "cell_type": "code",
   "execution_count": 3,
   "id": "1c46675f",
   "metadata": {},
   "outputs": [],
   "source": [
    "import os"
   ]
  },
  {
   "cell_type": "markdown",
   "id": "f257618b",
   "metadata": {},
   "source": [
    "# data types"
   ]
  },
  {
   "cell_type": "markdown",
   "id": "17b0f710",
   "metadata": {},
   "source": [
    "#7 three ways of reaching 100"
   ]
  },
  {
   "cell_type": "code",
   "execution_count": 5,
   "id": "2635a2c6",
   "metadata": {},
   "outputs": [],
   "source": [
    "a = 60\n",
    "b = 40"
   ]
  },
  {
   "cell_type": "code",
   "execution_count": 6,
   "id": "09e179a4",
   "metadata": {},
   "outputs": [],
   "source": [
    "c = a + b"
   ]
  },
  {
   "cell_type": "code",
   "execution_count": 7,
   "id": "e46454fa",
   "metadata": {},
   "outputs": [
    {
     "data": {
      "text/plain": [
       "100"
      ]
     },
     "execution_count": 7,
     "metadata": {},
     "output_type": "execute_result"
    }
   ],
   "source": [
    "c"
   ]
  },
  {
   "cell_type": "code",
   "execution_count": 10,
   "id": "92bc4b18",
   "metadata": {},
   "outputs": [],
   "source": [
    "d = 175\n",
    "e = 75"
   ]
  },
  {
   "cell_type": "code",
   "execution_count": 11,
   "id": "b3c3bb80",
   "metadata": {},
   "outputs": [],
   "source": [
    "f = d - e"
   ]
  },
  {
   "cell_type": "code",
   "execution_count": 12,
   "id": "88a21f4c",
   "metadata": {},
   "outputs": [
    {
     "data": {
      "text/plain": [
       "100"
      ]
     },
     "execution_count": 12,
     "metadata": {},
     "output_type": "execute_result"
    }
   ],
   "source": [
    "f"
   ]
  },
  {
   "cell_type": "code",
   "execution_count": 13,
   "id": "e91e8023",
   "metadata": {},
   "outputs": [],
   "source": [
    "g = 94\n",
    "h = 6"
   ]
  },
  {
   "cell_type": "code",
   "execution_count": 14,
   "id": "d8dce6ff",
   "metadata": {},
   "outputs": [],
   "source": [
    "i = g + h"
   ]
  },
  {
   "cell_type": "code",
   "execution_count": 15,
   "id": "8f5ad8fe",
   "metadata": {},
   "outputs": [
    {
     "data": {
      "text/plain": [
       "100"
      ]
     },
     "execution_count": 15,
     "metadata": {},
     "output_type": "execute_result"
    }
   ],
   "source": [
    "i"
   ]
  },
  {
   "cell_type": "markdown",
   "id": "fe75c555",
   "metadata": {},
   "source": [
    "#8 two floating point variables"
   ]
  },
  {
   "cell_type": "code",
   "execution_count": 16,
   "id": "410ad969",
   "metadata": {},
   "outputs": [],
   "source": [
    "j = 50.12\n",
    "k = 154.51"
   ]
  },
  {
   "cell_type": "code",
   "execution_count": 17,
   "id": "610463b4",
   "metadata": {},
   "outputs": [],
   "source": [
    "l = j / k"
   ]
  },
  {
   "cell_type": "code",
   "execution_count": 18,
   "id": "816aba5c",
   "metadata": {},
   "outputs": [
    {
     "data": {
      "text/plain": [
       "0.32438029900977283"
      ]
     },
     "execution_count": 18,
     "metadata": {},
     "output_type": "execute_result"
    }
   ],
   "source": [
    "l"
   ]
  },
  {
   "cell_type": "markdown",
   "id": "57293153",
   "metadata": {},
   "source": [
    "#9 short word of separate strings"
   ]
  },
  {
   "cell_type": "code",
   "execution_count": 19,
   "id": "faab6ee8",
   "metadata": {},
   "outputs": [],
   "source": [
    "s1 = 'ban'\n",
    "s2 = 'ana'"
   ]
  },
  {
   "cell_type": "code",
   "execution_count": 20,
   "id": "7ad2fbac",
   "metadata": {},
   "outputs": [],
   "source": [
    "s3 = s1 + s2"
   ]
  },
  {
   "cell_type": "code",
   "execution_count": 21,
   "id": "ac3c151c",
   "metadata": {},
   "outputs": [
    {
     "data": {
      "text/plain": [
       "'banana'"
      ]
     },
     "execution_count": 21,
     "metadata": {},
     "output_type": "execute_result"
    }
   ],
   "source": [
    "s3"
   ]
  },
  {
   "cell_type": "markdown",
   "id": "1d15a01b",
   "metadata": {},
   "source": [
    "#10 two sentences of separate strings"
   ]
  },
  {
   "cell_type": "code",
   "execution_count": 22,
   "id": "c82d5cea",
   "metadata": {},
   "outputs": [],
   "source": [
    "t1 = 'Hello, my name is Gavin. '\n",
    "t2 = 'Nice to meet you all!'"
   ]
  },
  {
   "cell_type": "code",
   "execution_count": 23,
   "id": "d1af6c47",
   "metadata": {},
   "outputs": [],
   "source": [
    "t3 = t1 + t2"
   ]
  },
  {
   "cell_type": "code",
   "execution_count": 24,
   "id": "b76d2a4d",
   "metadata": {},
   "outputs": [
    {
     "data": {
      "text/plain": [
       "'Hello, my name is Gavin. Nice to meet you all!'"
      ]
     },
     "execution_count": 24,
     "metadata": {},
     "output_type": "execute_result"
    }
   ],
   "source": [
    "t3"
   ]
  },
  {
   "cell_type": "markdown",
   "id": "743969ae",
   "metadata": {},
   "source": [
    "#bonus"
   ]
  },
  {
   "cell_type": "code",
   "execution_count": 25,
   "id": "61975735",
   "metadata": {},
   "outputs": [],
   "source": [
    "rng = 'Hello'"
   ]
  },
  {
   "cell_type": "code",
   "execution_count": 26,
   "id": "26bb347d",
   "metadata": {},
   "outputs": [
    {
     "name": "stdout",
     "output_type": "stream",
     "text": [
      "HelloHelloHelloHelloHelloHelloHelloHelloHelloHelloHelloHelloHelloHelloHelloHelloHelloHelloHelloHelloHelloHelloHelloHelloHelloHelloHelloHelloHelloHelloHelloHelloHelloHelloHelloHelloHelloHelloHelloHelloHelloHelloHelloHelloHelloHelloHelloHelloHelloHelloHelloHelloHelloHelloHelloHelloHelloHelloHelloHelloHelloHelloHelloHelloHelloHelloHelloHelloHelloHelloHelloHelloHelloHelloHelloHelloHelloHelloHelloHelloHelloHelloHelloHelloHelloHelloHelloHelloHelloHelloHelloHelloHelloHelloHelloHelloHelloHelloHelloHello\n"
     ]
    }
   ],
   "source": [
    "print(rng * 100)"
   ]
  },
  {
   "cell_type": "code",
   "execution_count": null,
   "id": "c84e312b",
   "metadata": {},
   "outputs": [],
   "source": []
  }
 ],
 "metadata": {
  "kernelspec": {
   "display_name": "Python 3 (ipykernel)",
   "language": "python",
   "name": "python3"
  },
  "language_info": {
   "codemirror_mode": {
    "name": "ipython",
    "version": 3
   },
   "file_extension": ".py",
   "mimetype": "text/x-python",
   "name": "python",
   "nbconvert_exporter": "python",
   "pygments_lexer": "ipython3",
   "version": "3.9.7"
  }
 },
 "nbformat": 4,
 "nbformat_minor": 5
}
